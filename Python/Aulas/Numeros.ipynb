{
 "cells": [
  {
   "cell_type": "code",
   "execution_count": 1,
   "id": "a1197e3a-9760-42fc-b818-3ad5d9587f41",
   "metadata": {},
   "outputs": [],
   "source": [
    "nome = \"Luis\""
   ]
  },
  {
   "cell_type": "code",
   "execution_count": 2,
   "id": "9726b697-adb1-40cf-985d-6b5a072792d4",
   "metadata": {},
   "outputs": [
    {
     "data": {
      "text/plain": [
       "'Luis'"
      ]
     },
     "execution_count": 2,
     "metadata": {},
     "output_type": "execute_result"
    }
   ],
   "source": [
    "nome"
   ]
  },
  {
   "cell_type": "code",
   "execution_count": 3,
   "id": "ea21c532-25be-4418-866c-784fc8f11d7f",
   "metadata": {},
   "outputs": [
    {
     "name": "stdout",
     "output_type": "stream",
     "text": [
      "Luis\n"
     ]
    }
   ],
   "source": [
    "print (nome)"
   ]
  },
  {
   "cell_type": "code",
   "execution_count": 4,
   "id": "0ed710d8-f1f6-4254-aac1-25561ab751bf",
   "metadata": {},
   "outputs": [
    {
     "data": {
      "text/plain": [
       "4"
      ]
     },
     "execution_count": 4,
     "metadata": {},
     "output_type": "execute_result"
    }
   ],
   "source": [
    "len (nome)"
   ]
  },
  {
   "cell_type": "code",
   "execution_count": 5,
   "id": "9850a7fe-aa8e-4a53-ac15-b207f9c9812c",
   "metadata": {},
   "outputs": [
    {
     "data": {
      "text/plain": [
       "'L'"
      ]
     },
     "execution_count": 5,
     "metadata": {},
     "output_type": "execute_result"
    }
   ],
   "source": [
    "nome[0]"
   ]
  },
  {
   "cell_type": "code",
   "execution_count": 7,
   "id": "3630dc98-f3b4-4996-8c1e-c19df80a9b78",
   "metadata": {},
   "outputs": [
    {
     "data": {
      "text/plain": [
       "'i'"
      ]
     },
     "execution_count": 7,
     "metadata": {},
     "output_type": "execute_result"
    }
   ],
   "source": [
    "nome[2:3]"
   ]
  },
  {
   "cell_type": "code",
   "execution_count": 8,
   "id": "d3c5c6a7-6d6d-42a2-8804-d4174bb6a0b9",
   "metadata": {},
   "outputs": [
    {
     "data": {
      "text/plain": [
       "'s'"
      ]
     },
     "execution_count": 8,
     "metadata": {},
     "output_type": "execute_result"
    }
   ],
   "source": [
    "nome [-1]"
   ]
  },
  {
   "cell_type": "code",
   "execution_count": 9,
   "id": "413b60ea-cdb0-4d9e-af72-696efcd92391",
   "metadata": {},
   "outputs": [
    {
     "data": {
      "text/plain": [
       "'L'"
      ]
     },
     "execution_count": 9,
     "metadata": {},
     "output_type": "execute_result"
    }
   ],
   "source": [
    "nome [-4]"
   ]
  },
  {
   "cell_type": "code",
   "execution_count": 17,
   "id": "b5cafe73-847a-4736-8ced-8c1bad260c46",
   "metadata": {},
   "outputs": [
    {
     "data": {
      "text/plain": [
       "'Idade da pessoa é 33 e nome é Luis'"
      ]
     },
     "execution_count": 17,
     "metadata": {},
     "output_type": "execute_result"
    }
   ],
   "source": [
    "idade = \"33\"\n",
    "nome = \"Luis\"\n",
    "\"Idade da pessoa é \"+idade+\" e nome é \"+nome"
   ]
  },
  {
   "cell_type": "code",
   "execution_count": null,
   "id": "f74390cd-ae81-4617-88cf-42bb428928a2",
   "metadata": {},
   "outputs": [],
   "source": []
  }
 ],
 "metadata": {
  "kernelspec": {
   "display_name": "Python 3 (ipykernel)",
   "language": "python",
   "name": "python3"
  },
  "language_info": {
   "codemirror_mode": {
    "name": "ipython",
    "version": 3
   },
   "file_extension": ".py",
   "mimetype": "text/x-python",
   "name": "python",
   "nbconvert_exporter": "python",
   "pygments_lexer": "ipython3",
   "version": "3.9.13"
  }
 },
 "nbformat": 4,
 "nbformat_minor": 5
}
