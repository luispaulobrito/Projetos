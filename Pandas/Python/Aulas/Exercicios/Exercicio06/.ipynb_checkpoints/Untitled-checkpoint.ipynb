{
 "cells": [
  {
   "cell_type": "code",
   "execution_count": null,
   "id": "1d7af247",
   "metadata": {},
   "outputs": [],
   "source": [
    "import pandas as pd"
   ]
  },
  {
   "cell_type": "code",
   "execution_count": null,
   "id": "3fc4188e",
   "metadata": {},
   "outputs": [],
   "source": [
    "df_divisao = pd.read_csv(\"DIVISAO.csv\", sep=\";\")\n"
   ]
  },
  {
   "cell_type": "code",
   "execution_count": null,
   "id": "621d020b",
   "metadata": {},
   "outputs": [],
   "source": [
    "display(df_divisao)"
   ]
  },
  {
   "cell_type": "code",
   "execution_count": null,
   "id": "3a2e71f6",
   "metadata": {},
   "outputs": [],
   "source": [
    "df_endereco = pd.read_csv(\"ENDERECO.csv\", sep=\";\")\n",
    "# df_endereco.rename(columns={\"City\": \"address_number\"}, inplace=True)"
   ]
  },
  {
   "cell_type": "code",
   "execution_count": null,
   "id": "6d533f15",
   "metadata": {},
   "outputs": [],
   "source": [
    "display(df_endereco)"
   ]
  },
  {
   "cell_type": "code",
   "execution_count": null,
   "id": "83abfb27",
   "metadata": {},
   "outputs": [],
   "source": [
    "df_regiao = pd.read_csv(\"REGIAO.csv\", sep=\";\")"
   ]
  },
  {
   "cell_type": "code",
   "execution_count": null,
   "id": "9d1b1181",
   "metadata": {},
   "outputs": [],
   "source": [
    "display(df_regiao)"
   ]
  },
  {
   "cell_type": "code",
   "execution_count": null,
   "id": "f460d2cd",
   "metadata": {},
   "outputs": [],
   "source": [
    "df_clientes = pd.read_csv(\"CLIENTES.csv\", sep=\";\")"
   ]
  },
  {
   "cell_type": "code",
   "execution_count": null,
   "id": "317e8739",
   "metadata": {},
   "outputs": [],
   "source": [
    "display(df_clientes)"
   ]
  },
  {
   "cell_type": "code",
   "execution_count": null,
   "id": "e81f1a5b",
   "metadata": {},
   "outputs": [],
   "source": [
    "df_vendas = pd.read_csv(\"VENDAS.csv\", sep=\";\")"
   ]
  },
  {
   "cell_type": "code",
   "execution_count": null,
   "id": "b8e4fc91",
   "metadata": {},
   "outputs": [],
   "source": [
    "display(df_vendas)"
   ]
  },
  {
   "cell_type": "code",
   "execution_count": null,
   "id": "0a1994c1",
   "metadata": {},
   "outputs": [],
   "source": [
    "df_clientes_endereco = pd.merge(df_clientes, df_endereco, on=[\"Address Number\"], how=\"left\")\n",
    "display(df_clientes_endereco)"
   ]
  },
  {
   "cell_type": "code",
   "execution_count": null,
   "id": "788aab80",
   "metadata": {},
   "outputs": [],
   "source": [
    "df_clientes_endereco_regiao = pd.merge(df_clientes_endereco, df_regiao, on=[\"Region Code\"], how=\"left\")\n",
    "display(df_clientes_endereco_regiao)"
   ]
  },
  {
   "cell_type": "code",
   "execution_count": null,
   "id": "6cb96050",
   "metadata": {},
   "outputs": [],
   "source": [
    "df_stage = pd.merge(df_clientes_endereco, df_divisao, on=[\"Division\"], how=\"left\")\n",
    "display(df_stage)"
   ]
  },
  {
   "cell_type": "code",
   "execution_count": null,
   "id": "551592db",
   "metadata": {},
   "outputs": [],
   "source": [
    "df_stage = pd.merge(df_vendas, df_stage, on=[\"CustomerKey\"], how=\"left\")\n",
    "display(df_stage)"
   ]
  },
  {
   "cell_type": "code",
   "execution_count": null,
   "id": "6e63e6e3",
   "metadata": {},
   "outputs": [],
   "source": [
    "# df_stage.to_csv('dados2.csv')\n",
    "df_stage.to_excel('df_stage.xlsx', index=False)\n"
   ]
  },
  {
   "cell_type": "code",
   "execution_count": null,
   "id": "b8198793",
   "metadata": {},
   "outputs": [],
   "source": []
  }
 ],
 "metadata": {
  "kernelspec": {
   "display_name": "Python 3 (ipykernel)",
   "language": "python",
   "name": "python3"
  },
  "language_info": {
   "codemirror_mode": {
    "name": "ipython",
    "version": 3
   },
   "file_extension": ".py",
   "mimetype": "text/x-python",
   "name": "python",
   "nbconvert_exporter": "python",
   "pygments_lexer": "ipython3",
   "version": "3.9.13"
  }
 },
 "nbformat": 4,
 "nbformat_minor": 5
}
