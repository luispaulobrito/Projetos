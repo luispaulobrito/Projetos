{
 "cells": [
  {
   "cell_type": "code",
   "execution_count": 85,
   "id": "1d7af247",
   "metadata": {},
   "outputs": [],
   "source": [
    "import pandas as pd"
   ]
  },
  {
   "cell_type": "code",
   "execution_count": 86,
   "id": "3fc4188e",
   "metadata": {},
   "outputs": [
    {
     "name": "stdout",
     "output_type": "stream",
     "text": [
      "Index(['Division', 'Division Name'], dtype='object')\n"
     ]
    }
   ],
   "source": [
    "df_divisao = pd.read_csv(\"DIVISAO.csv\", sep=\";\")\n",
    "print(df_divisao.columns)"
   ]
  },
  {
   "cell_type": "code",
   "execution_count": 87,
   "id": "3a2e71f6",
   "metadata": {},
   "outputs": [
    {
     "name": "stdout",
     "output_type": "stream",
     "text": [
      "Index(['Address Number', 'City', 'Country', 'Customer Address 1',\n",
      "       'Customer Address 2', 'Customer Address 3', 'Customer Address 4',\n",
      "       'State', 'Zip Code'],\n",
      "      dtype='object')\n"
     ]
    }
   ],
   "source": [
    "df_endereco = pd.read_csv(\"ENDERECO.csv\", sep=\";\")\n",
    "print(df_endereco.columns)"
   ]
  },
  {
   "cell_type": "code",
   "execution_count": 88,
   "id": "83abfb27",
   "metadata": {},
   "outputs": [
    {
     "name": "stdout",
     "output_type": "stream",
     "text": [
      "Index(['Region Code', 'Region Name'], dtype='object')\n"
     ]
    }
   ],
   "source": [
    "df_regiao = pd.read_csv(\"REGIAO.csv\", sep=\";\")\n",
    "print(df_regiao.columns)"
   ]
  },
  {
   "cell_type": "code",
   "execution_count": 89,
   "id": "f460d2cd",
   "metadata": {},
   "outputs": [
    {
     "name": "stdout",
     "output_type": "stream",
     "text": [
      "Index(['Address Number', 'Business Family', 'Business Unit', 'Customer',\n",
      "       'CustomerKey', 'Customer Type', 'Division', 'Line of Business', 'Phone',\n",
      "       'Region Code', 'Regional Sales Mgr', 'Search Type'],\n",
      "      dtype='object')\n",
      "O número de linhas é: 684\n",
      "O número de colunas é: 12\n"
     ]
    }
   ],
   "source": [
    "df_clientes = pd.read_csv(\"CLIENTES.csv\", sep=\";\")\n",
    "print(df_clientes.columns)\n",
    "num_linhas = df_clientes.shape[0]\n",
    "print(\"O número de linhas é:\", num_linhas)\n",
    "num_colunas = df_clientes.shape[1]\n",
    "print(\"O número de colunas é:\", num_colunas)"
   ]
  },
  {
   "cell_type": "code",
   "execution_count": 90,
   "id": "e81f1a5b",
   "metadata": {},
   "outputs": [
    {
     "name": "stdout",
     "output_type": "stream",
     "text": [
      "Index(['Actual Delivery Date', 'CustomerKey', 'DateKey', 'Discount Amount',\n",
      "       'Invoice Date', 'Invoice Number', 'Item Class', 'Item Number', 'Item',\n",
      "       'Line Number', 'List Price', 'Order Number', 'Promised Delivery Date',\n",
      "       'Sales Amount', 'Sales Amount Based on List Price', 'Sales Cost Amount',\n",
      "       'Sales Margin Amount', 'Sales Price', 'Sales Quantity', 'Sales Rep',\n",
      "       'U/M'],\n",
      "      dtype='object')\n"
     ]
    }
   ],
   "source": [
    "df_vendas = pd.read_csv(\"VENDAS.csv\", sep=\";\")\n",
    "print(df_vendas.columns)"
   ]
  },
  {
   "cell_type": "code",
   "execution_count": 91,
   "id": "f931730a",
   "metadata": {},
   "outputs": [
    {
     "name": "stdout",
     "output_type": "stream",
     "text": [
      "Index(['Address Number', 'Business Family', 'Business Unit', 'Customer',\n",
      "       'CustomerKey', 'Customer Type', 'Division', 'Line of Business', 'Phone',\n",
      "       'Region Code', 'Regional Sales Mgr', 'Search Type', 'Region Name'],\n",
      "      dtype='object')\n",
      "O número de linhas é: 684\n",
      "O número de colunas é: 13\n"
     ]
    }
   ],
   "source": [
    "df_clientes_regiao = pd.merge(df_clientes, df_regiao, on=[\"Region Code\"], how=\"left\")\n",
    "# display(df_clientes_regiao)\n",
    "print(df_clientes_regiao.columns)\n",
    "num_linhas = df_clientes_regiao.shape[0]\n",
    "print(\"O número de linhas é:\", num_linhas)\n",
    "df_clientes_regiao.to_excel('df_clientes_regiao.xlsx', index=False)\n",
    "num_colunas = df_clientes_regiao.shape[1]\n",
    "print(\"O número de colunas é:\", num_colunas)\n"
   ]
  },
  {
   "cell_type": "code",
   "execution_count": 92,
   "id": "0a1994c1",
   "metadata": {},
   "outputs": [
    {
     "name": "stdout",
     "output_type": "stream",
     "text": [
      "Index(['Address Number', 'Business Family', 'Business Unit', 'Customer',\n",
      "       'CustomerKey', 'Customer Type', 'Division', 'Line of Business', 'Phone',\n",
      "       'Region Code', 'Regional Sales Mgr', 'Search Type', 'Region Name',\n",
      "       'Division Name'],\n",
      "      dtype='object')\n",
      "O número de linhas é: 684\n",
      "O número de colunas é: 14\n"
     ]
    }
   ],
   "source": [
    "df_clientes_regiao_divisao = pd.merge(df_clientes_regiao, df_divisao, on=[\"Division\"], how=\"left\")\n",
    "print(df_clientes_regiao_divisao.columns)\n",
    "num_linhas = df_clientes_regiao_divisao.shape[0]\n",
    "print(\"O número de linhas é:\", num_linhas)\n",
    "num_colunas = df_clientes_regiao_divisao.shape[1]\n",
    "print(\"O número de colunas é:\", num_colunas)\n",
    "df_clientes_regiao_divisao.to_excel('df_clientes_regiao_divisao.xlsx', index=False)"
   ]
  },
  {
   "cell_type": "code",
   "execution_count": 93,
   "id": "2f5f48c0",
   "metadata": {},
   "outputs": [
    {
     "name": "stdout",
     "output_type": "stream",
     "text": [
      "Index(['Address Number', 'City', 'Country', 'Customer Address 1',\n",
      "       'Customer Address 2', 'Customer Address 3', 'Customer Address 4',\n",
      "       'State', 'Zip Code'],\n",
      "      dtype='object')\n",
      "O número de linhas é: 455\n",
      "O número de colunas é: 9\n"
     ]
    }
   ],
   "source": [
    "df_endereco = pd.read_csv(\"ENDERECO.csv\", sep=\";\")\n",
    "print(df_endereco.columns)\n",
    "num_linhas = df_endereco.shape[0]\n",
    "print(\"O número de linhas é:\", num_linhas)\n",
    "num_colunas = df_endereco.shape[1]\n",
    "print(\"O número de colunas é:\", num_colunas)"
   ]
  },
  {
   "cell_type": "code",
   "execution_count": 94,
   "id": "788aab80",
   "metadata": {},
   "outputs": [
    {
     "name": "stdout",
     "output_type": "stream",
     "text": [
      "Index(['Address Number', 'Business Family', 'Business Unit', 'Customer',\n",
      "       'CustomerKey', 'Customer Type', 'Division', 'Line of Business', 'Phone',\n",
      "       'Region Code', 'Regional Sales Mgr', 'Search Type', 'Region Name',\n",
      "       'Division Name', 'City', 'Country', 'Customer Address 1',\n",
      "       'Customer Address 2', 'Customer Address 3', 'Customer Address 4',\n",
      "       'State', 'Zip Code'],\n",
      "      dtype='object')\n",
      "O número de linhas é: 686\n",
      "O número de colunas é: 22\n"
     ]
    }
   ],
   "source": [
    "df_clientes_regiao_divisao_endereco = pd.merge(df_clientes_regiao_divisao, df_endereco, on=[\"Address Number\"], how=\"left\")\n",
    "print(df_clientes_regiao_divisao_endereco.columns)\n",
    "num_linhas = df_clientes_regiao_divisao_endereco.shape[0]\n",
    "print(\"O número de linhas é:\", num_linhas)\n",
    "num_colunas = df_clientes_regiao_divisao_endereco.shape[1]\n",
    "print(\"O número de colunas é:\", num_colunas)\n",
    "df_clientes_regiao_divisao_endereco.to_excel('df_clientes_regiao_divisao_endereco.xlsx', index=False)       "
   ]
  },
  {
   "cell_type": "code",
   "execution_count": 96,
   "id": "6cb96050",
   "metadata": {},
   "outputs": [
    {
     "name": "stdout",
     "output_type": "stream",
     "text": [
      "Index(['Actual Delivery Date', 'CustomerKey', 'DateKey', 'Discount Amount',\n",
      "       'Invoice Date', 'Invoice Number', 'Item Class', 'Item Number', 'Item',\n",
      "       'Line Number', 'List Price', 'Order Number', 'Promised Delivery Date',\n",
      "       'Sales Amount', 'Sales Amount Based on List Price', 'Sales Cost Amount',\n",
      "       'Sales Margin Amount', 'Sales Price', 'Sales Quantity', 'Sales Rep',\n",
      "       'U/M', 'Address Number', 'Business Family', 'Business Unit', 'Customer',\n",
      "       'Customer Type', 'Division', 'Line of Business', 'Phone', 'Region Code',\n",
      "       'Regional Sales Mgr', 'Search Type', 'Region Name', 'Division Name',\n",
      "       'City', 'Country', 'Customer Address 1', 'Customer Address 2',\n",
      "       'Customer Address 3', 'Customer Address 4', 'State', 'Zip Code'],\n",
      "      dtype='object')\n",
      "O número de linhas é: 66872\n",
      "O número de colunas é: 42\n"
     ]
    }
   ],
   "source": [
    "df_stage_final = pd.merge(df_vendas, df_clientes_regiao_divisao_endereco, on=[\"CustomerKey\"], how=\"left\")\n",
    "print(df_stage_final.columns)\n",
    "num_linhas = df_stage_final.shape[0]\n",
    "print(\"O número de linhas é:\", num_linhas)\n",
    "num_colunas = df_stage_final.shape[1]\n",
    "print(\"O número de colunas é:\", num_colunas)\n",
    "df_stage_final.to_excel('df_stage_final.xlsx', index=False)  "
   ]
  },
  {
   "cell_type": "code",
   "execution_count": null,
   "id": "551592db",
   "metadata": {},
   "outputs": [],
   "source": []
  },
  {
   "cell_type": "code",
   "execution_count": null,
   "id": "6e63e6e3",
   "metadata": {},
   "outputs": [],
   "source": []
  },
  {
   "cell_type": "code",
   "execution_count": null,
   "id": "5e2b3bbb",
   "metadata": {},
   "outputs": [],
   "source": []
  }
 ],
 "metadata": {
  "kernelspec": {
   "display_name": "Python 3 (ipykernel)",
   "language": "python",
   "name": "python3"
  },
  "language_info": {
   "codemirror_mode": {
    "name": "ipython",
    "version": 3
   },
   "file_extension": ".py",
   "mimetype": "text/x-python",
   "name": "python",
   "nbconvert_exporter": "python",
   "pygments_lexer": "ipython3",
   "version": "3.9.13"
  }
 },
 "nbformat": 4,
 "nbformat_minor": 5
}
