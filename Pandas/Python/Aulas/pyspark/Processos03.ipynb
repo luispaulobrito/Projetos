{
 "cells": [
  {
   "cell_type": "code",
   "execution_count": 2,
   "metadata": {},
   "outputs": [
    {
     "ename": "RuntimeError",
     "evalue": "Java gateway process exited before sending its port number",
     "output_type": "error",
     "traceback": [
      "\u001b[1;31m---------------------------------------------------------------------------\u001b[0m",
      "\u001b[1;31mRuntimeError\u001b[0m                              Traceback (most recent call last)",
      "\u001b[1;32m~\\AppData\\Local\\Temp\\ipykernel_18368\\770288079.py\u001b[0m in \u001b[0;36m<module>\u001b[1;34m\u001b[0m\n\u001b[0;32m      2\u001b[0m \u001b[1;33m\u001b[0m\u001b[0m\n\u001b[0;32m      3\u001b[0m \u001b[1;31m# Criar uma sessão Spark\u001b[0m\u001b[1;33m\u001b[0m\u001b[1;33m\u001b[0m\u001b[0m\n\u001b[1;32m----> 4\u001b[1;33m \u001b[0mspark\u001b[0m \u001b[1;33m=\u001b[0m \u001b[0mSparkSession\u001b[0m\u001b[1;33m.\u001b[0m\u001b[0mbuilder\u001b[0m\u001b[1;33m.\u001b[0m\u001b[0mappName\u001b[0m\u001b[1;33m(\u001b[0m\u001b[1;34m\"Ler CSV\"\u001b[0m\u001b[1;33m)\u001b[0m\u001b[1;33m.\u001b[0m\u001b[0mgetOrCreate\u001b[0m\u001b[1;33m(\u001b[0m\u001b[1;33m)\u001b[0m\u001b[1;33m\u001b[0m\u001b[1;33m\u001b[0m\u001b[0m\n\u001b[0m\u001b[0;32m      5\u001b[0m \u001b[1;33m\u001b[0m\u001b[0m\n\u001b[0;32m      6\u001b[0m \u001b[1;31m# Ler o arquivo CSV usando o método read.csv()\u001b[0m\u001b[1;33m\u001b[0m\u001b[1;33m\u001b[0m\u001b[0m\n",
      "\u001b[1;32mc:\\Users\\Luis Paulo\\anaconda3\\lib\\site-packages\\pyspark\\sql\\session.py\u001b[0m in \u001b[0;36mgetOrCreate\u001b[1;34m(self)\u001b[0m\n\u001b[0;32m    267\u001b[0m                         \u001b[0msparkConf\u001b[0m\u001b[1;33m.\u001b[0m\u001b[0mset\u001b[0m\u001b[1;33m(\u001b[0m\u001b[0mkey\u001b[0m\u001b[1;33m,\u001b[0m \u001b[0mvalue\u001b[0m\u001b[1;33m)\u001b[0m\u001b[1;33m\u001b[0m\u001b[1;33m\u001b[0m\u001b[0m\n\u001b[0;32m    268\u001b[0m                     \u001b[1;31m# This SparkContext may be an existing one.\u001b[0m\u001b[1;33m\u001b[0m\u001b[1;33m\u001b[0m\u001b[0m\n\u001b[1;32m--> 269\u001b[1;33m                     \u001b[0msc\u001b[0m \u001b[1;33m=\u001b[0m \u001b[0mSparkContext\u001b[0m\u001b[1;33m.\u001b[0m\u001b[0mgetOrCreate\u001b[0m\u001b[1;33m(\u001b[0m\u001b[0msparkConf\u001b[0m\u001b[1;33m)\u001b[0m\u001b[1;33m\u001b[0m\u001b[1;33m\u001b[0m\u001b[0m\n\u001b[0m\u001b[0;32m    270\u001b[0m                     \u001b[1;31m# Do not update `SparkConf` for existing `SparkContext`, as it's shared\u001b[0m\u001b[1;33m\u001b[0m\u001b[1;33m\u001b[0m\u001b[0m\n\u001b[0;32m    271\u001b[0m                     \u001b[1;31m# by all sessions.\u001b[0m\u001b[1;33m\u001b[0m\u001b[1;33m\u001b[0m\u001b[0m\n",
      "\u001b[1;32mc:\\Users\\Luis Paulo\\anaconda3\\lib\\site-packages\\pyspark\\context.py\u001b[0m in \u001b[0;36mgetOrCreate\u001b[1;34m(cls, conf)\u001b[0m\n\u001b[0;32m    481\u001b[0m         \u001b[1;32mwith\u001b[0m \u001b[0mSparkContext\u001b[0m\u001b[1;33m.\u001b[0m\u001b[0m_lock\u001b[0m\u001b[1;33m:\u001b[0m\u001b[1;33m\u001b[0m\u001b[1;33m\u001b[0m\u001b[0m\n\u001b[0;32m    482\u001b[0m             \u001b[1;32mif\u001b[0m \u001b[0mSparkContext\u001b[0m\u001b[1;33m.\u001b[0m\u001b[0m_active_spark_context\u001b[0m \u001b[1;32mis\u001b[0m \u001b[1;32mNone\u001b[0m\u001b[1;33m:\u001b[0m\u001b[1;33m\u001b[0m\u001b[1;33m\u001b[0m\u001b[0m\n\u001b[1;32m--> 483\u001b[1;33m                 \u001b[0mSparkContext\u001b[0m\u001b[1;33m(\u001b[0m\u001b[0mconf\u001b[0m\u001b[1;33m=\u001b[0m\u001b[0mconf\u001b[0m \u001b[1;32mor\u001b[0m \u001b[0mSparkConf\u001b[0m\u001b[1;33m(\u001b[0m\u001b[1;33m)\u001b[0m\u001b[1;33m)\u001b[0m\u001b[1;33m\u001b[0m\u001b[1;33m\u001b[0m\u001b[0m\n\u001b[0m\u001b[0;32m    484\u001b[0m             \u001b[1;32massert\u001b[0m \u001b[0mSparkContext\u001b[0m\u001b[1;33m.\u001b[0m\u001b[0m_active_spark_context\u001b[0m \u001b[1;32mis\u001b[0m \u001b[1;32mnot\u001b[0m \u001b[1;32mNone\u001b[0m\u001b[1;33m\u001b[0m\u001b[1;33m\u001b[0m\u001b[0m\n\u001b[0;32m    485\u001b[0m             \u001b[1;32mreturn\u001b[0m \u001b[0mSparkContext\u001b[0m\u001b[1;33m.\u001b[0m\u001b[0m_active_spark_context\u001b[0m\u001b[1;33m\u001b[0m\u001b[1;33m\u001b[0m\u001b[0m\n",
      "\u001b[1;32mc:\\Users\\Luis Paulo\\anaconda3\\lib\\site-packages\\pyspark\\context.py\u001b[0m in \u001b[0;36m__init__\u001b[1;34m(self, master, appName, sparkHome, pyFiles, environment, batchSize, serializer, conf, gateway, jsc, profiler_cls, udf_profiler_cls)\u001b[0m\n\u001b[0;32m    193\u001b[0m             )\n\u001b[0;32m    194\u001b[0m \u001b[1;33m\u001b[0m\u001b[0m\n\u001b[1;32m--> 195\u001b[1;33m         \u001b[0mSparkContext\u001b[0m\u001b[1;33m.\u001b[0m\u001b[0m_ensure_initialized\u001b[0m\u001b[1;33m(\u001b[0m\u001b[0mself\u001b[0m\u001b[1;33m,\u001b[0m \u001b[0mgateway\u001b[0m\u001b[1;33m=\u001b[0m\u001b[0mgateway\u001b[0m\u001b[1;33m,\u001b[0m \u001b[0mconf\u001b[0m\u001b[1;33m=\u001b[0m\u001b[0mconf\u001b[0m\u001b[1;33m)\u001b[0m\u001b[1;33m\u001b[0m\u001b[1;33m\u001b[0m\u001b[0m\n\u001b[0m\u001b[0;32m    196\u001b[0m         \u001b[1;32mtry\u001b[0m\u001b[1;33m:\u001b[0m\u001b[1;33m\u001b[0m\u001b[1;33m\u001b[0m\u001b[0m\n\u001b[0;32m    197\u001b[0m             self._do_init(\n",
      "\u001b[1;32mc:\\Users\\Luis Paulo\\anaconda3\\lib\\site-packages\\pyspark\\context.py\u001b[0m in \u001b[0;36m_ensure_initialized\u001b[1;34m(cls, instance, gateway, conf)\u001b[0m\n\u001b[0;32m    415\u001b[0m         \u001b[1;32mwith\u001b[0m \u001b[0mSparkContext\u001b[0m\u001b[1;33m.\u001b[0m\u001b[0m_lock\u001b[0m\u001b[1;33m:\u001b[0m\u001b[1;33m\u001b[0m\u001b[1;33m\u001b[0m\u001b[0m\n\u001b[0;32m    416\u001b[0m             \u001b[1;32mif\u001b[0m \u001b[1;32mnot\u001b[0m \u001b[0mSparkContext\u001b[0m\u001b[1;33m.\u001b[0m\u001b[0m_gateway\u001b[0m\u001b[1;33m:\u001b[0m\u001b[1;33m\u001b[0m\u001b[1;33m\u001b[0m\u001b[0m\n\u001b[1;32m--> 417\u001b[1;33m                 \u001b[0mSparkContext\u001b[0m\u001b[1;33m.\u001b[0m\u001b[0m_gateway\u001b[0m \u001b[1;33m=\u001b[0m \u001b[0mgateway\u001b[0m \u001b[1;32mor\u001b[0m \u001b[0mlaunch_gateway\u001b[0m\u001b[1;33m(\u001b[0m\u001b[0mconf\u001b[0m\u001b[1;33m)\u001b[0m\u001b[1;33m\u001b[0m\u001b[1;33m\u001b[0m\u001b[0m\n\u001b[0m\u001b[0;32m    418\u001b[0m                 \u001b[0mSparkContext\u001b[0m\u001b[1;33m.\u001b[0m\u001b[0m_jvm\u001b[0m \u001b[1;33m=\u001b[0m \u001b[0mSparkContext\u001b[0m\u001b[1;33m.\u001b[0m\u001b[0m_gateway\u001b[0m\u001b[1;33m.\u001b[0m\u001b[0mjvm\u001b[0m\u001b[1;33m\u001b[0m\u001b[1;33m\u001b[0m\u001b[0m\n\u001b[0;32m    419\u001b[0m \u001b[1;33m\u001b[0m\u001b[0m\n",
      "\u001b[1;32mc:\\Users\\Luis Paulo\\anaconda3\\lib\\site-packages\\pyspark\\java_gateway.py\u001b[0m in \u001b[0;36mlaunch_gateway\u001b[1;34m(conf, popen_kwargs)\u001b[0m\n\u001b[0;32m    104\u001b[0m \u001b[1;33m\u001b[0m\u001b[0m\n\u001b[0;32m    105\u001b[0m             \u001b[1;32mif\u001b[0m \u001b[1;32mnot\u001b[0m \u001b[0mos\u001b[0m\u001b[1;33m.\u001b[0m\u001b[0mpath\u001b[0m\u001b[1;33m.\u001b[0m\u001b[0misfile\u001b[0m\u001b[1;33m(\u001b[0m\u001b[0mconn_info_file\u001b[0m\u001b[1;33m)\u001b[0m\u001b[1;33m:\u001b[0m\u001b[1;33m\u001b[0m\u001b[1;33m\u001b[0m\u001b[0m\n\u001b[1;32m--> 106\u001b[1;33m                 \u001b[1;32mraise\u001b[0m \u001b[0mRuntimeError\u001b[0m\u001b[1;33m(\u001b[0m\u001b[1;34m\"Java gateway process exited before sending its port number\"\u001b[0m\u001b[1;33m)\u001b[0m\u001b[1;33m\u001b[0m\u001b[1;33m\u001b[0m\u001b[0m\n\u001b[0m\u001b[0;32m    107\u001b[0m \u001b[1;33m\u001b[0m\u001b[0m\n\u001b[0;32m    108\u001b[0m             \u001b[1;32mwith\u001b[0m \u001b[0mopen\u001b[0m\u001b[1;33m(\u001b[0m\u001b[0mconn_info_file\u001b[0m\u001b[1;33m,\u001b[0m \u001b[1;34m\"rb\"\u001b[0m\u001b[1;33m)\u001b[0m \u001b[1;32mas\u001b[0m \u001b[0minfo\u001b[0m\u001b[1;33m:\u001b[0m\u001b[1;33m\u001b[0m\u001b[1;33m\u001b[0m\u001b[0m\n",
      "\u001b[1;31mRuntimeError\u001b[0m: Java gateway process exited before sending its port number"
     ]
    }
   ],
   "source": [
    "from pyspark.sql import SparkSession, dataframe\n",
    "from pyspark.sql.functions import when, col, sum, count, isnan, round\n",
    "from pyspark.sql.functions import regexp_replace, concat_ws, sha2, rtrim, substring\n",
    "from pyspark.sql.functions import unix_timestamp, from_unixtime, to_date\n",
    "from pyspark.sql.types import StructType, StructField\n",
    "from pyspark.sql.types import DoubleType, IntegerType, StringType\n",
    "from pyspark.sql import HiveContext\n",
    "from pyspark.sql.functions import year, month, dayofmonth, quarter\n",
    "from pyspark.sql.types import DecimalType\n",
    "from pyspark.sql.functions import trim, regexp_replace, when, col\n",
    "\n",
    "import os\n",
    "import re\n",
    "\n",
    "from pyspark.sql.functions import regexp_replace\n",
    "from pyspark.sql.functions import when\n",
    "\n",
    "spark = SparkSession.builder.master(\"local[*]\")\\\n",
    "    .enableHiveSupport()\\\n",
    "    .getOrCreate()"
   ]
  },
  {
   "cell_type": "code",
   "execution_count": 80,
   "metadata": {},
   "outputs": [],
   "source": [
    "def salvar_df(df, file):\n",
    "    output = \"input/projeto-hive/gold/\" + file\n",
    "    erase = \"hdfs dfs -rm \" + output + \"/*\"\n",
    "    rename = \"hdfs dfs -get /datalake/gold/\"+file+\"/part-* input/projeto-hive/gold/\"+file+\".csv\"\n",
    "    \n",
    "    print(rename)    \n",
    "    \n",
    "    df.coalesce(1).write\\\n",
    "        .format(\"csv\")\\\n",
    "        .option(\"header\", True)\\\n",
    "        .option(\"delimiter\", \";\")\\\n",
    "        .mode(\"overwrite\")\\\n",
    "        .save(\"/datalake/gold/\"+file+\"/\")\n",
    "    \n",
    "    os.system(erase)\n",
    "    os.system(rename)"
   ]
  },
  {
   "cell_type": "code",
   "execution_count": 81,
   "metadata": {
    "scrolled": true
   },
   "outputs": [
    {
     "name": "stdout",
     "output_type": "stream",
     "text": [
      "+--------------+--------------------+-------+--------------------+--------------------+--------------------+--------------------+-----+------------+\n",
      "|address_number|                city|country|  customer_address_1|  customer_address_2|  customer_address_3|  customer_address_4|state|    zip_code|\n",
      "+--------------+--------------------+-------+--------------------+--------------------+--------------------+--------------------+-----+------------+\n",
      "|      10000000|               Akron|     US|         PO Box 6258|                 ...|                 ...|                 ...|   OH|       44312|\n",
      "|      10000453|                 ...|     UK|                 ...|                 ...|                 ...|                 ...|     |            |\n",
      "|      10000455|    Huntington Beach|     US|   7392 Count Circle|                 ...|                 ...|                 ...|   CA|       92647|\n",
      "+--------------+--------------------+-------+--------------------+--------------------+--------------------+--------------------+-----+------------+\n",
      "\n",
      "+--------------+--------------------+-------------+--------------------+------------+-------------+--------+----------------+------------+-----------+------------------+-----------+\n",
      "|address_number|business_family_name|business_unit|            customer|customer_key|customer_type|division|line_of_business|       phone|region_code|regional_sales_mgr|search_type|\n",
      "+--------------+--------------------+-------------+--------------------+------------+-------------+--------+----------------+------------+-----------+------------------+-----------+\n",
      "|      10000000|                  R3|            1|    City Supermarket|    10000000|           G2|       2|                |816-455-8733|          4|               S16|          C|\n",
      "|      10000453|                  R3|            1|       A Supermarket|    10000453|           G1|       1|                |816-455-8733|          5|               S19|          C|\n",
      "|      10000455|                  R3|            1|Caribian Supermarket|    10000455|           G2|       2|                |816-455-8733|          1|               S16|          C|\n",
      "+--------------+--------------------+-------------+--------------------+------------+-------------+--------+----------------+------------+-----------+------------------+-----------+\n",
      "\n",
      "+--------+-------------+\n",
      "|division|division_name|\n",
      "+--------+-------------+\n",
      "|       1|International|\n",
      "|       2|     Domestic|\n",
      "+--------+-------------+\n",
      "\n",
      "+-----------+-------------+\n",
      "|region_code|  region_name|\n",
      "+-----------+-------------+\n",
      "|          0|       Canada|\n",
      "|          1|      Western|\n",
      "|          2|     Southern|\n",
      "|          3|    Northeast|\n",
      "|          4|      Central|\n",
      "|          5|International|\n",
      "+-----------+-------------+\n",
      "\n"
     ]
    }
   ],
   "source": [
    "# df_clientes = spark.sql(\"select * from desafio_curso.clientes\")\n",
    "# df_divisao = spark.sql(\"select * from desafio_curso.divisao\")\n",
    "# df_regiao = spark.sql(\"select * from desafio_curso.regiao\")\n",
    "# df_vendas = spark.sql(\"select * from desafio_curso.vendas\")\n",
    "\n",
    "# df_endereco = spark.read.table(\"desafio_curso.endereco\")\n",
    "# rdd = df_endereco.rdd.zipWithIndex().filter(lambda x: x[1] > 0).map(lambda x: x[0])\n",
    "# df_endereco = rdd.toDF(df_endereco.schema)\n",
    "\n",
    "df_clientes = spark.sql(\"select * from desafio_curso.clientes\")\n",
    "df_divisao = spark.sql(\"select * from desafio_curso.divisao\")\n",
    "df_regiao = spark.sql(\"select * from desafio_curso.regiao\")\n",
    "df_vendas = spark.sql(\"select * from desafio_curso.vendas\")\n",
    "\n",
    "# Carregar tabela endereco e remover a primeira linha que copiou o cabeçalho\n",
    "df_endereco = spark.read.table(\"desafio_curso.endereco\")\n",
    "rdd = df_endereco.rdd.zipWithIndex().filter(lambda x: x[1] > 0).map(lambda x: x[0])\n",
    "df_endereco = rdd.toDF(df_endereco.schema)\n",
    "\n",
    "# Carregar tabela clientes e remover a primeira linha que copiou o cabeçalho\n",
    "df_clientes = spark.read.table(\"desafio_curso.clientes\")\n",
    "rdd = df_clientes.rdd.zipWithIndex().filter(lambda x: x[1] > 0).map(lambda x: x[0])\n",
    "df_clientes = rdd.toDF(df_clientes.schema)\n",
    "\n",
    "# Carregar tabela divisao e remover a primeira linha que copiou o cabeçalho\n",
    "df_divisao = spark.read.table(\"desafio_curso.divisao\")\n",
    "rdd = df_divisao.rdd.zipWithIndex().filter(lambda x: x[1] > 0).map(lambda x: x[0])\n",
    "df_divisao = rdd.toDF(df_divisao.schema)\n",
    "\n",
    "# Carregar tabela regiao e remover a primeira linha que copiou o cabeçalho\n",
    "df_regiao = spark.read.table(\"desafio_curso.regiao\")\n",
    "rdd = df_regiao.rdd.zipWithIndex().filter(lambda x: x[1] > 0).map(lambda x: x[0])\n",
    "df_regiao = rdd.toDF(df_regiao.schema)\n",
    "\n",
    "\n",
    "df_endereco.limit(3).show()\n",
    "df_clientes.limit(3).show()\n",
    "df_divisao.show()\n",
    "df_regiao.show()\n"
   ]
  },
  {
   "cell_type": "code",
   "execution_count": 82,
   "metadata": {},
   "outputs": [
    {
     "name": "stdout",
     "output_type": "stream",
     "text": [
      "+------------+-----------+--------+--------------+--------------------+-------------+-----------+-------------+----------------+------------+------------------+-----------+--------+-------+-------------------+--------------------+--------------------+--------------------+-----+--------+-------------+-----------+--------------------+----------+---------------+------------+--------------+----------+-----------+--------------------+-----------+----------+------------+----------------------+------------+--------------------------------+-----------------+-------------------+-----------+--------------+---------+---+\n",
      "|customer_key|region_code|division|address_number|business_family_name|business_unit|   customer|customer_type|line_of_business|       phone|regional_sales_mgr|search_type|    city|country| customer_address_1|  customer_address_2|  customer_address_3|  customer_address_4|state|zip_code|division_name|region_name|actual_delivery_date|  date_key|discount_amount|invoice_date|invoice_number|item_class|item_number|                item|line_number|list_price|order_number|promised_delivery_date|sales_amount|sales_amount_based_on_list_price|sales_cost_amount|sales_margin_amount|sales_price|sales_quantity|sales_rep|u_m|\n",
      "+------------+-----------+--------+--------------+--------------------+-------------+-----------+-------------+----------------+------------+------------------+-----------+--------+-------+-------------------+--------------------+--------------------+--------------------+-----+--------+-------------+-----------+--------------------+----------+---------------+------------+--------------+----------+-----------+--------------------+-----------+----------+------------+----------------------+------------+--------------------------------+-----------------+-------------------+-----------+--------------+---------+---+\n",
      "|    10000472|          1|       2|      10000472|                  R3|            1|Aaron Store|           G2|                |816-455-8733|                S4|          C|Van Nuys|     US|8000 Haskell Avenue|                 ...|                 ...|                 ...|   CA|   91406|     Domestic|    Western|          19/01/2019|19/01/2018|         363,99|  21/01/2018|        120547|       P01|      61752|Carlson Cheese Sp...|       1000|    803,86|      216973|            19/01/2019|      439,87|                          803,86|           474,05|             -34,18|     439,87|             1|      119| EA|\n",
      "|    10000472|          1|       2|      10000472|                  R3|            1|Aaron Store|           G2|                |816-455-8733|                S4|          C|Van Nuys|     US|8000 Haskell Avenue|                 ...|                 ...|                 ...|   CA|   91406|     Domestic|    Western|          23/01/2019|23/01/2018|         919,75|  25/01/2018|        121031|       P01|      27550|   Imagine Popsicles|       2000|   1084,61|      217830|            23/01/2019|     1249,47|                         2169,22|           605,31|             644,16|    624,735|             2|      119| EA|\n",
      "|    10000472|          1|       2|      10000472|                  R3|            1|Aaron Store|           G2|                |816-455-8733|                S4|          C|Van Nuys|     US|8000 Haskell Avenue|                 ...|                 ...|                 ...|   CA|   91406|     Domestic|    Western|          23/01/2019|23/01/2018|         224,79|  25/01/2018|        121031|       P01|      29312|  Discover Spaghetti|       5000|     44,18|      217830|            23/01/2019|      305,37|                          530,16|           158,73|             146,64|    25,4475|            12|      119| EA|\n",
      "|    10000472|          1|       2|      10000472|                  R3|            1|Aaron Store|           G2|                |816-455-8733|                S4|          C|Van Nuys|     US|8000 Haskell Avenue|                 ...|                 ...|                 ...|   CA|   91406|     Domestic|    Western|          23/01/2019|23/01/2018|         398,38|  25/01/2018|        121031|       P01|      26502|Bravo Large Canne...|       1000|    939,57|      217830|            23/01/2019|      541,19|                          939,57|           273,05|             268,14|     541,19|             1|      119| EA|\n",
      "|    10000472|          1|       2|      10000472|                  R3|            1|Aaron Store|           G2|                |816-455-8733|                S4|          C|Van Nuys|     US|8000 Haskell Avenue|                 ...|                 ...|                 ...|   CA|   91406|     Domestic|    Western|          23/01/2019|23/01/2018|      1346,6403|  25/01/2018|        121031|       P01|      28500|        Ebony Squash|       3000| 1058,6801|      217830|            23/01/2019|      1829,4|                       3176,0403|           928,93|             900,47|      609,8|             3|      119| EA|\n",
      "|    10000472|          1|       2|      10000472|                  R3|            1|Aaron Store|           G2|                |816-455-8733|                S4|          C|Van Nuys|     US|8000 Haskell Avenue|                 ...|                 ...|                 ...|   CA|   91406|     Domestic|    Western|          23/01/2019|23/01/2018|         435,15|  25/01/2018|        121031|       P01|      26370|Bravo Canned Tomatos|       4000|    205,26|      217830|            23/01/2019|      591,15|                          1026,3|           287,69|             303,46|     118,23|             5|      119| EA|\n",
      "|    10000472|          1|       2|      10000472|                  R3|            1|Aaron Store|           G2|                |816-455-8733|                S4|          C|Van Nuys|     US|8000 Haskell Avenue|                 ...|                 ...|                 ...|   CA|   91406|     Domestic|    Western|          09/02/2019|09/02/2018|         334,45|  11/02/2018|        122466|       P01|      28761|   Ebony Fuji Apples|       1000|    157,76|      218734|            09/02/2019|      454,35|                           788,8|           238,73|             215,62|      90,87|             5|      119| SE|\n",
      "|    10000472|          1|       2|      10000472|                  R3|            1|Aaron Store|           G2|                |816-455-8733|                S4|          C|Van Nuys|     US|8000 Haskell Avenue|                 ...|                 ...|                 ...|   CA|   91406|     Domestic|    Western|          20/02/2019|20/02/2018|         334,45|  22/02/2018|        123476|       P01|      28761|   Ebony Fuji Apples|       5000|    157,76|      219480|            20/02/2019|      454,35|                           788,8|           238,73|             215,62|      90,87|             5|      119| SE|\n",
      "|    10000472|          1|       2|      10000472|                  R3|            1|Aaron Store|           G2|                |816-455-8733|                S4|          C|Van Nuys|     US|8000 Haskell Avenue|                 ...|                 ...|                 ...|   CA|   91406|     Domestic|    Western|          20/02/2019|20/02/2018|         253,65|  22/02/2018|        123476|       P01|      25300|   Fast Dried Apples|       1000|    199,41|      219480|            20/02/2019|      344,58|                          598,23|           167,81|             176,77|     114,86|             3|      119| EA|\n",
      "|    10000472|          1|       2|      10000472|                  R3|            1|Aaron Store|           G2|                |816-455-8733|                S4|          C|Van Nuys|     US|8000 Haskell Avenue|                 ...|                 ...|                 ...|   CA|   91406|     Domestic|    Western|          20/02/2019|20/02/2018|         374,65|  22/02/2018|        123476|       P01|      29312|  Discover Spaghetti|       2000|     44,18|      219480|            20/02/2019|      508,95|                           883,6|           264,56|             244,39|    25,4475|            20|      119| EA|\n",
      "|    10000472|          1|       2|      10000472|                  R3|            1|Aaron Store|           G2|                |816-455-8733|                S4|          C|Van Nuys|     US|8000 Haskell Avenue|                 ...|                 ...|                 ...|   CA|   91406|     Domestic|    Western|          03/03/2019|03/03/2018|         253,65|  05/03/2018|        124390|       P01|      25300|   Fast Dried Apples|       1000|    199,41|      220087|            03/03/2019|      344,58|                          598,23|           167,81|             176,77|     114,86|             3|      119| EA|\n",
      "|    10000472|          1|       2|      10000472|                  R3|            1|Aaron Store|           G2|                |816-455-8733|                S4|          C|Van Nuys|     US|8000 Haskell Avenue|                 ...|                 ...|                 ...|   CA|   91406|     Domestic|    Western|          05/03/2019|05/03/2018|         363,99|  07/03/2018|        124591|       P01|      61752|Carlson Cheese Sp...|       1000|    803,86|      220197|            05/03/2019|      439,87|                          803,86|           389,73|              50,14|     439,87|             1|      119| EA|\n",
      "|    10000472|          1|       2|      10000472|                  R3|            1|Aaron Store|           G2|                |816-455-8733|                S4|          C|Van Nuys|     US|8000 Haskell Avenue|                 ...|                 ...|                 ...|   CA|   91406|     Domestic|    Western|          11/03/2019|11/03/2018|          169,1|  13/03/2018|        125063|       P01|      25300|   Fast Dried Apples|       1000|    199,41|      220544|            11/03/2019|      229,72|                          398,82|           111,87|             117,85|     114,86|             2|      119| EA|\n",
      "|    10000472|          1|       2|      10000472|                  R3|            1|Aaron Store|           G2|                |816-455-8733|                S4|          C|Van Nuys|     US|8000 Haskell Avenue|                 ...|                 ...|                 ...|   CA|   91406|     Domestic|    Western|          19/03/2019|19/03/2018|         398,38|  21/03/2018|        125808|       P01|      26502|Bravo Large Canne...|       7000|    939,57|      220986|            19/03/2019|      541,19|                          939,57|           266,94|             274,25|     541,19|             1|      119| EA|\n",
      "|    10000472|          1|       2|      10000472|                  R3|            1|Aaron Store|           G2|                |816-455-8733|                S4|          C|Van Nuys|     US|8000 Haskell Avenue|                 ...|                 ...|                 ...|   CA|   91406|     Domestic|    Western|          19/03/2019|19/03/2018|       448,8801|  21/03/2018|        125808|       P01|      28500|        Ebony Squash|       8000| 1058,6801|      220986|            19/03/2019|       609,8|                       1058,6801|           303,54|             306,26|      609,8|             1|      119| EA|\n",
      "|    10000472|          1|       2|      10000472|                  R3|            1|Aaron Store|           G2|                |816-455-8733|                S4|          C|Van Nuys|     US|8000 Haskell Avenue|                 ...|                 ...|                 ...|   CA|   91406|     Domestic|    Western|          19/03/2019|19/03/2018|         468,23|  21/03/2018|        125808|       P01|      28761|   Ebony Fuji Apples|       4000|    157,76|      220986|            19/03/2019|      636,09|                         1104,32|           334,22|             301,87|      90,87|             7|      119| SE|\n",
      "|    10000472|          1|       2|      10000472|                  R3|            1|Aaron Store|           G2|                |816-455-8733|                S4|          C|Van Nuys|     US|8000 Haskell Avenue|                 ...|                 ...|                 ...|   CA|   91406|     Domestic|    Western|          19/03/2019|19/03/2018|         1839,5|  21/03/2018|        125808|       P01|      27550|   Imagine Popsicles|       9000|   1084,61|      220986|            19/03/2019|     2498,94|                         4338,44|          1186,19|            1312,75|    624,735|             4|      119| EA|\n",
      "|    10000472|          1|       2|      10000472|                  R3|            1|Aaron Store|           G2|                |816-455-8733|                S4|          C|Van Nuys|     US|8000 Haskell Avenue|                 ...|                 ...|                 ...|   CA|   91406|     Domestic|    Western|          19/04/2019|19/04/2018|         363,99|  21/04/2018|        132059|       P01|      61752|Carlson Cheese Sp...|       1000|    803,86|      225677|            19/04/2019|      439,87|                          803,86|           474,05|             -34,18|     439,87|             1|      119| EA|\n",
      "|    10000472|          1|       2|      10000472|                  R3|            1|Aaron Store|           G2|                |816-455-8733|                S4|          C|Van Nuys|     US|8000 Haskell Avenue|                 ...|                 ...|                 ...|   CA|   91406|     Domestic|    Western|          23/04/2019|23/04/2018|         919,75|  25/04/2018|        132543|       P01|      27550|   Imagine Popsicles|       2000|   1084,61|      226383|            23/04/2019|     1249,47|                         2169,22|           605,31|             644,16|    624,735|             2|      119| EA|\n",
      "|    10000472|          1|       2|      10000472|                  R3|            1|Aaron Store|           G2|                |816-455-8733|                S4|          C|Van Nuys|     US|8000 Haskell Avenue|                 ...|                 ...|                 ...|   CA|   91406|     Domestic|    Western|          23/04/2019|23/04/2018|         224,79|  25/04/2018|        132543|       P01|      29312|  Discover Spaghetti|       5000|     44,18|      226383|            23/04/2019|      305,37|                          530,16|           158,73|             146,64|    25,4475|            12|      119| EA|\n",
      "+------------+-----------+--------+--------------+--------------------+-------------+-----------+-------------+----------------+------------+------------------+-----------+--------+-------+-------------------+--------------------+--------------------+--------------------+-----+--------+-------------+-----------+--------------------+----------+---------------+------------+--------------+----------+-----------+--------------------+-----------+----------+------------+----------------------+------------+--------------------------------+-----------------+-------------------+-----------+--------------+---------+---+\n",
      "only showing top 20 rows\n",
      "\n"
     ]
    }
   ],
   "source": [
    "#Fazer um tabelão\n",
    "\n",
    "df_stage_clientes_localidade = df_clientes.join(df_endereco, \"address_number\", \"inner\")\\\n",
    "                                .join(df_divisao, \"division\", \"inner\")\\\n",
    "                                .join(df_regiao, \"region_code\", \"inner\")\\\n",
    "                                .join(df_vendas, \"customer_key\", \"inner\")\n",
    "\n",
    "df_stage_clientes_localidade.show()"
   ]
  },
  {
   "cell_type": "code",
   "execution_count": 83,
   "metadata": {},
   "outputs": [
    {
     "name": "stdout",
     "output_type": "stream",
     "text": [
      "+------------+-----------+--------+--------------+--------------------+-------------+-----------+-------------+----------------+------------+------------------+-----------+--------+-------+-------------------+--------------------+--------------------+--------------------+-----+--------+-------------+-----------+--------------------+----------+---------------+------------+--------------+----------+-----------+--------------------+-----------+----------+------------+----------------------+------------+--------------------------------+-----------------+-------------------+-----------+--------------+---------+---+----+---+---+---------+\n",
      "|customer_key|region_code|division|address_number|business_family_name|business_unit|   customer|customer_type|line_of_business|       phone|regional_sales_mgr|search_type|    city|country| customer_address_1|  customer_address_2|  customer_address_3|  customer_address_4|state|zip_code|division_name|region_name|actual_delivery_date|  date_key|discount_amount|invoice_date|invoice_number|item_class|item_number|                item|line_number|list_price|order_number|promised_delivery_date|sales_amount|sales_amount_based_on_list_price|sales_cost_amount|sales_margin_amount|sales_price|sales_quantity|sales_rep|u_m| Ano|Mes|Dia|Trimestre|\n",
      "+------------+-----------+--------+--------------+--------------------+-------------+-----------+-------------+----------------+------------+------------------+-----------+--------+-------+-------------------+--------------------+--------------------+--------------------+-----+--------+-------------+-----------+--------------------+----------+---------------+------------+--------------+----------+-----------+--------------------+-----------+----------+------------+----------------------+------------+--------------------------------+-----------------+-------------------+-----------+--------------+---------+---+----+---+---+---------+\n",
      "|    10000472|          1|       2|      10000472|                  R3|            1|Aaron Store|           G2|                |816-455-8733|                S4|          C|Van Nuys|     US|8000 Haskell Avenue|                 ...|                 ...|                 ...|   CA|   91406|     Domestic|    Western|          19/01/2019|19/01/2018|         363,99|  2018-01-21|        120547|       P01|      61752|Carlson Cheese Sp...|       1000|    803,86|      216973|            19/01/2019|      439,87|                          803,86|           474,05|             -34,18|     439,87|             1|      119| EA|2018|  1| 21|        1|\n",
      "|    10000472|          1|       2|      10000472|                  R3|            1|Aaron Store|           G2|                |816-455-8733|                S4|          C|Van Nuys|     US|8000 Haskell Avenue|                 ...|                 ...|                 ...|   CA|   91406|     Domestic|    Western|          23/01/2019|23/01/2018|         919,75|  2018-01-25|        121031|       P01|      27550|   Imagine Popsicles|       2000|   1084,61|      217830|            23/01/2019|     1249,47|                         2169,22|           605,31|             644,16|    624,735|             2|      119| EA|2018|  1| 25|        1|\n",
      "|    10000472|          1|       2|      10000472|                  R3|            1|Aaron Store|           G2|                |816-455-8733|                S4|          C|Van Nuys|     US|8000 Haskell Avenue|                 ...|                 ...|                 ...|   CA|   91406|     Domestic|    Western|          23/01/2019|23/01/2018|         224,79|  2018-01-25|        121031|       P01|      29312|  Discover Spaghetti|       5000|     44,18|      217830|            23/01/2019|      305,37|                          530,16|           158,73|             146,64|    25,4475|            12|      119| EA|2018|  1| 25|        1|\n",
      "|    10000472|          1|       2|      10000472|                  R3|            1|Aaron Store|           G2|                |816-455-8733|                S4|          C|Van Nuys|     US|8000 Haskell Avenue|                 ...|                 ...|                 ...|   CA|   91406|     Domestic|    Western|          23/01/2019|23/01/2018|         398,38|  2018-01-25|        121031|       P01|      26502|Bravo Large Canne...|       1000|    939,57|      217830|            23/01/2019|      541,19|                          939,57|           273,05|             268,14|     541,19|             1|      119| EA|2018|  1| 25|        1|\n",
      "|    10000472|          1|       2|      10000472|                  R3|            1|Aaron Store|           G2|                |816-455-8733|                S4|          C|Van Nuys|     US|8000 Haskell Avenue|                 ...|                 ...|                 ...|   CA|   91406|     Domestic|    Western|          23/01/2019|23/01/2018|      1346,6403|  2018-01-25|        121031|       P01|      28500|        Ebony Squash|       3000| 1058,6801|      217830|            23/01/2019|      1829,4|                       3176,0403|           928,93|             900,47|      609,8|             3|      119| EA|2018|  1| 25|        1|\n",
      "|    10000472|          1|       2|      10000472|                  R3|            1|Aaron Store|           G2|                |816-455-8733|                S4|          C|Van Nuys|     US|8000 Haskell Avenue|                 ...|                 ...|                 ...|   CA|   91406|     Domestic|    Western|          23/01/2019|23/01/2018|         435,15|  2018-01-25|        121031|       P01|      26370|Bravo Canned Tomatos|       4000|    205,26|      217830|            23/01/2019|      591,15|                          1026,3|           287,69|             303,46|     118,23|             5|      119| EA|2018|  1| 25|        1|\n",
      "|    10000472|          1|       2|      10000472|                  R3|            1|Aaron Store|           G2|                |816-455-8733|                S4|          C|Van Nuys|     US|8000 Haskell Avenue|                 ...|                 ...|                 ...|   CA|   91406|     Domestic|    Western|          09/02/2019|09/02/2018|         334,45|  2018-02-11|        122466|       P01|      28761|   Ebony Fuji Apples|       1000|    157,76|      218734|            09/02/2019|      454,35|                           788,8|           238,73|             215,62|      90,87|             5|      119| SE|2018|  2| 11|        1|\n",
      "|    10000472|          1|       2|      10000472|                  R3|            1|Aaron Store|           G2|                |816-455-8733|                S4|          C|Van Nuys|     US|8000 Haskell Avenue|                 ...|                 ...|                 ...|   CA|   91406|     Domestic|    Western|          20/02/2019|20/02/2018|         334,45|  2018-02-22|        123476|       P01|      28761|   Ebony Fuji Apples|       5000|    157,76|      219480|            20/02/2019|      454,35|                           788,8|           238,73|             215,62|      90,87|             5|      119| SE|2018|  2| 22|        1|\n",
      "|    10000472|          1|       2|      10000472|                  R3|            1|Aaron Store|           G2|                |816-455-8733|                S4|          C|Van Nuys|     US|8000 Haskell Avenue|                 ...|                 ...|                 ...|   CA|   91406|     Domestic|    Western|          20/02/2019|20/02/2018|         253,65|  2018-02-22|        123476|       P01|      25300|   Fast Dried Apples|       1000|    199,41|      219480|            20/02/2019|      344,58|                          598,23|           167,81|             176,77|     114,86|             3|      119| EA|2018|  2| 22|        1|\n",
      "|    10000472|          1|       2|      10000472|                  R3|            1|Aaron Store|           G2|                |816-455-8733|                S4|          C|Van Nuys|     US|8000 Haskell Avenue|                 ...|                 ...|                 ...|   CA|   91406|     Domestic|    Western|          20/02/2019|20/02/2018|         374,65|  2018-02-22|        123476|       P01|      29312|  Discover Spaghetti|       2000|     44,18|      219480|            20/02/2019|      508,95|                           883,6|           264,56|             244,39|    25,4475|            20|      119| EA|2018|  2| 22|        1|\n",
      "|    10000472|          1|       2|      10000472|                  R3|            1|Aaron Store|           G2|                |816-455-8733|                S4|          C|Van Nuys|     US|8000 Haskell Avenue|                 ...|                 ...|                 ...|   CA|   91406|     Domestic|    Western|          03/03/2019|03/03/2018|         253,65|  2018-03-05|        124390|       P01|      25300|   Fast Dried Apples|       1000|    199,41|      220087|            03/03/2019|      344,58|                          598,23|           167,81|             176,77|     114,86|             3|      119| EA|2018|  3|  5|        1|\n",
      "|    10000472|          1|       2|      10000472|                  R3|            1|Aaron Store|           G2|                |816-455-8733|                S4|          C|Van Nuys|     US|8000 Haskell Avenue|                 ...|                 ...|                 ...|   CA|   91406|     Domestic|    Western|          05/03/2019|05/03/2018|         363,99|  2018-03-07|        124591|       P01|      61752|Carlson Cheese Sp...|       1000|    803,86|      220197|            05/03/2019|      439,87|                          803,86|           389,73|              50,14|     439,87|             1|      119| EA|2018|  3|  7|        1|\n",
      "|    10000472|          1|       2|      10000472|                  R3|            1|Aaron Store|           G2|                |816-455-8733|                S4|          C|Van Nuys|     US|8000 Haskell Avenue|                 ...|                 ...|                 ...|   CA|   91406|     Domestic|    Western|          11/03/2019|11/03/2018|          169,1|  2018-03-13|        125063|       P01|      25300|   Fast Dried Apples|       1000|    199,41|      220544|            11/03/2019|      229,72|                          398,82|           111,87|             117,85|     114,86|             2|      119| EA|2018|  3| 13|        1|\n",
      "|    10000472|          1|       2|      10000472|                  R3|            1|Aaron Store|           G2|                |816-455-8733|                S4|          C|Van Nuys|     US|8000 Haskell Avenue|                 ...|                 ...|                 ...|   CA|   91406|     Domestic|    Western|          19/03/2019|19/03/2018|         398,38|  2018-03-21|        125808|       P01|      26502|Bravo Large Canne...|       7000|    939,57|      220986|            19/03/2019|      541,19|                          939,57|           266,94|             274,25|     541,19|             1|      119| EA|2018|  3| 21|        1|\n",
      "|    10000472|          1|       2|      10000472|                  R3|            1|Aaron Store|           G2|                |816-455-8733|                S4|          C|Van Nuys|     US|8000 Haskell Avenue|                 ...|                 ...|                 ...|   CA|   91406|     Domestic|    Western|          19/03/2019|19/03/2018|       448,8801|  2018-03-21|        125808|       P01|      28500|        Ebony Squash|       8000| 1058,6801|      220986|            19/03/2019|       609,8|                       1058,6801|           303,54|             306,26|      609,8|             1|      119| EA|2018|  3| 21|        1|\n",
      "|    10000472|          1|       2|      10000472|                  R3|            1|Aaron Store|           G2|                |816-455-8733|                S4|          C|Van Nuys|     US|8000 Haskell Avenue|                 ...|                 ...|                 ...|   CA|   91406|     Domestic|    Western|          19/03/2019|19/03/2018|         468,23|  2018-03-21|        125808|       P01|      28761|   Ebony Fuji Apples|       4000|    157,76|      220986|            19/03/2019|      636,09|                         1104,32|           334,22|             301,87|      90,87|             7|      119| SE|2018|  3| 21|        1|\n",
      "|    10000472|          1|       2|      10000472|                  R3|            1|Aaron Store|           G2|                |816-455-8733|                S4|          C|Van Nuys|     US|8000 Haskell Avenue|                 ...|                 ...|                 ...|   CA|   91406|     Domestic|    Western|          19/03/2019|19/03/2018|         1839,5|  2018-03-21|        125808|       P01|      27550|   Imagine Popsicles|       9000|   1084,61|      220986|            19/03/2019|     2498,94|                         4338,44|          1186,19|            1312,75|    624,735|             4|      119| EA|2018|  3| 21|        1|\n",
      "|    10000472|          1|       2|      10000472|                  R3|            1|Aaron Store|           G2|                |816-455-8733|                S4|          C|Van Nuys|     US|8000 Haskell Avenue|                 ...|                 ...|                 ...|   CA|   91406|     Domestic|    Western|          19/04/2019|19/04/2018|         363,99|  2018-04-21|        132059|       P01|      61752|Carlson Cheese Sp...|       1000|    803,86|      225677|            19/04/2019|      439,87|                          803,86|           474,05|             -34,18|     439,87|             1|      119| EA|2018|  4| 21|        2|\n",
      "|    10000472|          1|       2|      10000472|                  R3|            1|Aaron Store|           G2|                |816-455-8733|                S4|          C|Van Nuys|     US|8000 Haskell Avenue|                 ...|                 ...|                 ...|   CA|   91406|     Domestic|    Western|          23/04/2019|23/04/2018|         919,75|  2018-04-25|        132543|       P01|      27550|   Imagine Popsicles|       2000|   1084,61|      226383|            23/04/2019|     1249,47|                         2169,22|           605,31|             644,16|    624,735|             2|      119| EA|2018|  4| 25|        2|\n",
      "|    10000472|          1|       2|      10000472|                  R3|            1|Aaron Store|           G2|                |816-455-8733|                S4|          C|Van Nuys|     US|8000 Haskell Avenue|                 ...|                 ...|                 ...|   CA|   91406|     Domestic|    Western|          23/04/2019|23/04/2018|         224,79|  2018-04-25|        132543|       P01|      29312|  Discover Spaghetti|       5000|     44,18|      226383|            23/04/2019|      305,37|                          530,16|           158,73|             146,64|    25,4475|            12|      119| EA|2018|  4| 25|        2|\n",
      "+------------+-----------+--------+--------------+--------------------+-------------+-----------+-------------+----------------+------------+------------------+-----------+--------+-------+-------------------+--------------------+--------------------+--------------------+-----+--------+-------------+-----------+--------------------+----------+---------------+------------+--------------+----------+-----------+--------------------+-----------+----------+------------+----------------------+------------+--------------------------------+-----------------+-------------------+-----------+--------------+---------+---+----+---+---+---------+\n",
      "only showing top 20 rows\n",
      "\n"
     ]
    }
   ],
   "source": [
    "#Adicionar colunas Ano, Mês, Dia, Trimestre tomando como base a coluna invoice_date\n",
    "\n",
    "df_stage_clientes_localidade = df_stage_clientes_localidade.withColumn('invoice_date', to_date(col('invoice_date'), 'dd/MM/yyyy'))\n",
    "\n",
    "df_stage = df_stage_clientes_localidade \\\n",
    "    .withColumn('Ano', year('invoice_date')) \\\n",
    "    .withColumn('Mes', month('invoice_date')) \\\n",
    "    .withColumn('Dia', dayofmonth('invoice_date')) \\\n",
    "    .withColumn('Trimestre', quarter('invoice_date'))\n",
    "\n",
    "df_stage.show()\n",
    "                        "
   ]
  },
  {
   "cell_type": "code",
   "execution_count": 84,
   "metadata": {},
   "outputs": [],
   "source": [
    "#Campos decimais ou inteiros nulos ou vazios, deversão ser preenchidos por 0.\n",
    "\n",
    "cols_to_check = ['item_number', 'discount_amount', 'list_price', 'sales_amount', 'sales_amount_based_on_list_price', 'sales_cost_amount', 'sales_margin_amount', 'sales_price', 'line_number', 'sales_quantity']\n",
    "\n",
    "for col_name in cols_to_check:\n",
    "     df_stage = df_stage.withColumn(col_name, when(col(col_name) == '', 0).otherwise(col(col_name)))\n"
   ]
  },
  {
   "cell_type": "code",
   "execution_count": 85,
   "metadata": {},
   "outputs": [
    {
     "name": "stdout",
     "output_type": "stream",
     "text": [
      "+------------+-----------+--------+--------------+--------------------+-------------+----------------+-------------+----------------+------------+------------------+-----------+-------+-------+---------------------+----------------------------------------+----------------------------------------+----------------------------------------+-----+----------+-------------+-----------+--------------------+----------+---------------+------------+--------------+----------+-----------+------------------------------+-----------+----------+------------+----------------------+------------+--------------------------------+-----------------+-------------------+-----------+--------------+---------+---+----+---+---+---------+\n",
      "|customer_key|region_code|division|address_number|business_family_name|business_unit|customer        |customer_type|line_of_business|phone       |regional_sales_mgr|search_type|city   |country|customer_address_1   |customer_address_2                      |customer_address_3                      |customer_address_4                      |state|zip_code  |division_name|region_name|actual_delivery_date|date_key  |discount_amount|invoice_date|invoice_number|item_class|item_number|item                          |line_number|list_price|order_number|promised_delivery_date|sales_amount|sales_amount_based_on_list_price|sales_cost_amount|sales_margin_amount|sales_price|sales_quantity|sales_rep|u_m|Ano |Mes|Dia|Trimestre|\n",
      "+------------+-----------+--------+--------------+--------------------+-------------+----------------+-------------+----------------+------------+------------------+-----------+-------+-------+---------------------+----------------------------------------+----------------------------------------+----------------------------------------+-----+----------+-------------+-----------+--------------------+----------+---------------+------------+--------------+----------+-----------+------------------------------+-----------+----------+------------+----------------------+------------+--------------------------------+-----------------+-------------------+-----------+--------------+---------+---+----+---+---+---------+\n",
      "|10016588    |2          |2       |10016588      |R3                  |1            |Bounds Megaplace|G2           |M1              |816-455-8733|S16               |C          |Schertz|US     |6025 Corridor Parkway|                                        |                                        |                                        |TX   |78154-3214|Domestic     |Southern   |16/08/2019          |16/08/2018|-698,4         |2018-08-18  |110753        |          |64420      |Blue Label Canned String Beans|1000       |0         |208991      |16/08/2019            |698,4       |0                               |361,32           |337,08             |69,84      |10            |104      |EA |2018|8  |18 |3        |\n",
      "|10016588    |2          |2       |10016588      |R3                  |1            |Bounds Megaplace|G2           |M1              |816-455-8733|S16               |C          |Schertz|US     |6025 Corridor Parkway|                                        |                                        |                                        |TX   |78154-3214|Domestic     |Southern   |16/08/2019          |16/08/2018|0              |2018-08-18  |110753        |          |0          |Monarch Manicotti             |2000       |0         |208991      |16/08/2019            |401,86      |0                               |0                |401,86             |0          |0             |104      |EA |2018|8  |18 |3        |\n",
      "+------------+-----------+--------+--------------+--------------------+-------------+----------------+-------------+----------------+------------+------------------+-----------+-------+-------+---------------------+----------------------------------------+----------------------------------------+----------------------------------------+-----+----------+-------------+-----------+--------------------+----------+---------------+------------+--------------+----------+-----------+------------------------------+-----------+----------+------------+----------------------+------------+--------------------------------+-----------------+-------------------+-----------+--------------+---------+---+----+---+---+---------+\n",
      "\n"
     ]
    }
   ],
   "source": [
    "#Filtro para verificar se determinado cliente que tinha valores vazio foram substituidos por zero\n",
    "df_stage.filter((col(\"customer_key\") == \"10016588\") & (col(\"invoice_number\") == \"110753\")).show(truncate=False)"
   ]
  },
  {
   "cell_type": "code",
   "execution_count": 86,
   "metadata": {},
   "outputs": [
    {
     "name": "stdout",
     "output_type": "stream",
     "text": [
      "+------------+-----------+--------+--------------+--------------------+-------------+----------------+-------------+----------------+------------+------------------+-----------+-------+-------+---------------------+------------------+------------------+------------------+-----+----------+-------------+-----------+--------------------+----------+---------------+------------+--------------+-------------+-----------+------------------------------+-----------+----------+------------+----------------------+------------+--------------------------------+-----------------+-------------------+-----------+--------------+---------+---+----+---+---+---------+\n",
      "|customer_key|region_code|division|address_number|business_family_name|business_unit|customer        |customer_type|line_of_business|phone       |regional_sales_mgr|search_type|city   |country|customer_address_1   |customer_address_2|customer_address_3|customer_address_4|state|zip_code  |division_name|region_name|actual_delivery_date|date_key  |discount_amount|invoice_date|invoice_number|item_class   |item_number|item                          |line_number|list_price|order_number|promised_delivery_date|sales_amount|sales_amount_based_on_list_price|sales_cost_amount|sales_margin_amount|sales_price|sales_quantity|sales_rep|u_m|Ano |Mes|Dia|Trimestre|\n",
      "+------------+-----------+--------+--------------+--------------------+-------------+----------------+-------------+----------------+------------+------------------+-----------+-------+-------+---------------------+------------------+------------------+------------------+-----+----------+-------------+-----------+--------------------+----------+---------------+------------+--------------+-------------+-----------+------------------------------+-----------+----------+------------+----------------------+------------+--------------------------------+-----------------+-------------------+-----------+--------------+---------+---+----+---+---+---------+\n",
      "|10016588    |2          |2       |10016588      |R3                  |1            |Bounds Megaplace|G2           |M1              |816-455-8733|S16               |C          |Schertz|US     |6025 Corridor Parkway|Nao informado     |Nao informado     |Nao informado     |TX   |78154-3214|Domestic     |Southern   |16/08/2019          |16/08/2018|-698,4         |2018-08-18  |110753        |Nao informado|64420      |Blue Label Canned String Beans|1000       |0         |208991      |16/08/2019            |698,4       |0                               |361,32           |337,08             |69,84      |10            |104      |EA |2018|8  |18 |3        |\n",
      "|10016588    |2          |2       |10016588      |R3                  |1            |Bounds Megaplace|G2           |M1              |816-455-8733|S16               |C          |Schertz|US     |6025 Corridor Parkway|Nao informado     |Nao informado     |Nao informado     |TX   |78154-3214|Domestic     |Southern   |16/08/2019          |16/08/2018|0              |2018-08-18  |110753        |Nao informado|0          |Monarch Manicotti             |2000       |0         |208991      |16/08/2019            |401,86      |0                               |0                |401,86             |0          |0             |104      |EA |2018|8  |18 |3        |\n",
      "+------------+-----------+--------+--------------+--------------------+-------------+----------------+-------------+----------------+------------+------------------+-----------+-------+-------+---------------------+------------------+------------------+------------------+-----+----------+-------------+-----------+--------------------+----------+---------------+------------+--------------+-------------+-----------+------------------------------+-----------+----------+------------+----------------------+------------+--------------------------------+-----------------+-------------------+-----------+--------------+---------+---+----+---+---+---------+\n",
      "\n"
     ]
    }
   ],
   "source": [
    "#Campos strings vazios deverão ser preenchidos com 'Não informado'\n",
    "all_columns = df_stage.columns\n",
    "\n",
    "for column in all_columns:\n",
    "    df_stage = df_stage.withColumn(column, \n",
    "                                   when(trim(regexp_replace(col(column), '\\n', '')) == \"\", \"Nao informado\")\n",
    "                                   .otherwise(col(column)))\n",
    "\n",
    "#Filtro para verificar se determinado cliente que tinha strings vaziasforam substituídos com 'Não informado'\n",
    "df_stage.filter((col(\"customer_key\") == \"10016588\") & (col(\"invoice_number\") == \"110753\")).show(truncate=False)\n"
   ]
  },
  {
   "cell_type": "code",
   "execution_count": 87,
   "metadata": {},
   "outputs": [
    {
     "name": "stdout",
     "output_type": "stream",
     "text": [
      "+------------+-----------+--------+--------------+--------------------+-------------+----------------+-------------+----------------+------------+------------------+-----------+-------+-------+--------------------+------------------+------------------+------------------+-----+----------+-------------+-----------+--------------------+----------+---------------+------------+--------------+-------------+-----------+--------------------+-----------+----------+------------+----------------------+------------+--------------------------------+-----------------+-------------------+-----------+--------------+---------+---+----+---+---+---------+\n",
      "|customer_key|region_code|division|address_number|business_family_name|business_unit|        customer|customer_type|line_of_business|       phone|regional_sales_mgr|search_type|   city|country|  customer_address_1|customer_address_2|customer_address_3|customer_address_4|state|  zip_code|division_name|region_name|actual_delivery_date|  date_key|discount_amount|invoice_date|invoice_number|   item_class|item_number|                item|line_number|list_price|order_number|promised_delivery_date|sales_amount|sales_amount_based_on_list_price|sales_cost_amount|sales_margin_amount|sales_price|sales_quantity|sales_rep|u_m| Ano|Mes|Dia|Trimestre|\n",
      "+------------+-----------+--------+--------------+--------------------+-------------+----------------+-------------+----------------+------------+------------------+-----------+-------+-------+--------------------+------------------+------------------+------------------+-----+----------+-------------+-----------+--------------------+----------+---------------+------------+--------------+-------------+-----------+--------------------+-----------+----------+------------+----------------------+------------+--------------------------------+-----------------+-------------------+-----------+--------------+---------+---+----+---+---+---------+\n",
      "|    10016588|          2|       2|      10016588|                  R3|            1|Bounds Megaplace|           G2|              M1|816-455-8733|               S16|          C|Schertz|     US|6025 Corridor Par...|     Nao informado|     Nao informado|     Nao informado|   TX|78154-3214|     Domestic|   Southern|          16/08/2019|16/08/2018|         -698,4|  2018-08-18|        110753|Nao informado|      64420|Blue Label Canned...|       1000|         0|      208991|            16/08/2019|       698,4|                               0|           361,32|             337,08|      69,84|            10|      104| EA|2018|  8| 18|        3|\n",
      "|    10016588|          2|       2|      10016588|                  R3|            1|Bounds Megaplace|           G2|              M1|816-455-8733|               S16|          C|Schertz|     US|6025 Corridor Par...|     Nao informado|     Nao informado|     Nao informado|   TX|78154-3214|     Domestic|   Southern|          16/08/2019|16/08/2018|              0|  2018-08-18|        110753|Nao informado|          0|   Monarch Manicotti|       2000|         0|      208991|            16/08/2019|      401,86|                               0|                0|             401,86|          0|             0|      104| EA|2018|  8| 18|        3|\n",
      "+------------+-----------+--------+--------------+--------------------+-------------+----------------+-------------+----------------+------------+------------------+-----------+-------+-------+--------------------+------------------+------------------+------------------+-----+----------+-------------+-----------+--------------------+----------+---------------+------------+--------------+-------------+-----------+--------------------+-----------+----------+------------+----------------------+------------+--------------------------------+-----------------+-------------------+-----------+--------------+---------+---+----+---+---+---------+\n",
      "\n"
     ]
    }
   ],
   "source": [
    "df_stage.filter((col(\"customer_key\") == \"10016588\") & (col(\"invoice_number\") == \"110753\")).show()\n"
   ]
  },
  {
   "cell_type": "code",
   "execution_count": 88,
   "metadata": {},
   "outputs": [],
   "source": [
    "# # Conta o número de valores vazios em todas as colunas\n",
    "# empty_counts = [df_stage.select(when(col(c) == \"\", 1).otherwise(0)).agg({\"*\": \"sum\"}).collect()[0][0] for c in df_stage.columns]\n",
    "# for i, c in enumerate(df_stage.columns):\n",
    "#     print(f\"{c}: {empty_counts[i]}\")"
   ]
  },
  {
   "cell_type": "code",
   "execution_count": 89,
   "metadata": {},
   "outputs": [],
   "source": [
    "# # Verificar se há valores nulos em colunas numéricas\n",
    "# from pyspark.sql.functions import isnan, col\n",
    "# from pyspark.sql.types import DoubleType, IntegerType, LongType, FloatType\n",
    "\n",
    "# numeric_cols = [c.name for c in df_stage.schema if c.dataType in [DoubleType(), IntegerType(), LongType(), FloatType()]]\n",
    "\n",
    "# null_counts = [df_stage.select(isnan(col(c)).alias(c)).agg({\"*\": \"sum\"}).collect()[0][0] for c in numeric_cols]\n",
    "# for i, c in enumerate(numeric_cols):\n",
    "#     print(f\"{c}: {null_counts[i]}\")"
   ]
  },
  {
   "cell_type": "code",
   "execution_count": 90,
   "metadata": {},
   "outputs": [],
   "source": [
    "#Adicionar chaves estrangeiras\n",
    "df_stage = df_stage.withColumn('PK_TEMPO', sha2(concat_ws(\"\",df_stage.invoice_date, df_stage.Ano,df_stage.Mes,df_stage.Dia,df_stage.Trimestre), 256))\n",
    "\n",
    "df_stage = df_stage.withColumn('PK_CLIENTES', sha2(concat_ws(\"\",df_stage.customer_key,df_stage.customer,df_stage.business_family_name,df_stage.business_unit,df_stage.customer_type,df_stage.division,df_stage.line_of_business,df_stage.phone,df_stage.region_code,df_stage.regional_sales_mgr,df_stage.search_type), 256))\n",
    "\n",
    "df_stage = df_stage.withColumn('PK_LOCALIDADE', sha2(concat_ws(\"\",df_stage.address_number,df_stage.city,df_stage.country,df_stage.state,df_stage.zip_code,df_stage.division,df_stage.division_name,df_stage.region_code,df_stage.region_name,df_stage.customer_address_1,df_stage.customer_address_2,df_stage.customer_address_3,df_stage.customer_address_4), 256))"
   ]
  },
  {
   "cell_type": "code",
   "execution_count": 91,
   "metadata": {},
   "outputs": [
    {
     "name": "stdout",
     "output_type": "stream",
     "text": [
      "+------------+-----------+--------+--------------+--------------------+-------------+-----------+-------------+----------------+------------+------------------+-----------+--------+-------+-------------------+------------------+------------------+------------------+-----+--------+-------------+-----------+--------------------+----------+---------------+------------+--------------+----------+-----------+-------------------------+-----------+----------+------------+----------------------+------------+--------------------------------+-----------------+-------------------+-----------+--------------+---------+---+----+---+---+---------+----------------------------------------------------------------+----------------------------------------------------------------+----------------------------------------------------------------+\n",
      "|customer_key|region_code|division|address_number|business_family_name|business_unit|customer   |customer_type|line_of_business|phone       |regional_sales_mgr|search_type|city    |country|customer_address_1 |customer_address_2|customer_address_3|customer_address_4|state|zip_code|division_name|region_name|actual_delivery_date|date_key  |discount_amount|invoice_date|invoice_number|item_class|item_number|item                     |line_number|list_price|order_number|promised_delivery_date|sales_amount|sales_amount_based_on_list_price|sales_cost_amount|sales_margin_amount|sales_price|sales_quantity|sales_rep|u_m|Ano |Mes|Dia|Trimestre|PK_TEMPO                                                        |PK_CLIENTES                                                     |PK_LOCALIDADE                                                   |\n",
      "+------------+-----------+--------+--------------+--------------------+-------------+-----------+-------------+----------------+------------+------------------+-----------+--------+-------+-------------------+------------------+------------------+------------------+-----+--------+-------------+-----------+--------------------+----------+---------------+------------+--------------+----------+-----------+-------------------------+-----------+----------+------------+----------------------+------------+--------------------------------+-----------------+-------------------+-----------+--------------+---------+---+----+---+---+---------+----------------------------------------------------------------+----------------------------------------------------------------+----------------------------------------------------------------+\n",
      "|10000472    |1          |2       |10000472      |R3                  |1            |Aaron Store|G2           |Nao informado   |816-455-8733|S4                |C          |Van Nuys|US     |8000 Haskell Avenue|Nao informado     |Nao informado     |Nao informado     |CA   |91406   |Domestic     |Western    |19/01/2019          |19/01/2018|363,99         |2018-01-21  |120547        |P01       |61752      |Carlson Cheese Spread    |1000       |803,86    |216973      |19/01/2019            |439,87      |803,86                          |474,05           |-34,18             |439,87     |1             |119      |EA |2018|1  |21 |1        |ac6162c898b65e3a77eb64502bfac45995513482bd558f239f7067566c4a078c|6ea406def5bbf1f7465a6fd71575bf663fd6a8e759662fe62d79c8d581974869|7b2d152400f7e5632e1a253132cfc4987c31e1a57418ad7e10638785a6733e63|\n",
      "|10000472    |1          |2       |10000472      |R3                  |1            |Aaron Store|G2           |Nao informado   |816-455-8733|S4                |C          |Van Nuys|US     |8000 Haskell Avenue|Nao informado     |Nao informado     |Nao informado     |CA   |91406   |Domestic     |Western    |23/01/2019          |23/01/2018|919,75         |2018-01-25  |121031        |P01       |27550      |Imagine Popsicles        |2000       |1084,61   |217830      |23/01/2019            |1249,47     |2169,22                         |605,31           |644,16             |624,735    |2             |119      |EA |2018|1  |25 |1        |03d450e10578350d5a8341dd3447f6e647f385d6defce51e2b65e08973287083|6ea406def5bbf1f7465a6fd71575bf663fd6a8e759662fe62d79c8d581974869|7b2d152400f7e5632e1a253132cfc4987c31e1a57418ad7e10638785a6733e63|\n",
      "|10000472    |1          |2       |10000472      |R3                  |1            |Aaron Store|G2           |Nao informado   |816-455-8733|S4                |C          |Van Nuys|US     |8000 Haskell Avenue|Nao informado     |Nao informado     |Nao informado     |CA   |91406   |Domestic     |Western    |23/01/2019          |23/01/2018|224,79         |2018-01-25  |121031        |P01       |29312      |Discover Spaghetti       |5000       |44,18     |217830      |23/01/2019            |305,37      |530,16                          |158,73           |146,64             |25,4475    |12            |119      |EA |2018|1  |25 |1        |03d450e10578350d5a8341dd3447f6e647f385d6defce51e2b65e08973287083|6ea406def5bbf1f7465a6fd71575bf663fd6a8e759662fe62d79c8d581974869|7b2d152400f7e5632e1a253132cfc4987c31e1a57418ad7e10638785a6733e63|\n",
      "|10000472    |1          |2       |10000472      |R3                  |1            |Aaron Store|G2           |Nao informado   |816-455-8733|S4                |C          |Van Nuys|US     |8000 Haskell Avenue|Nao informado     |Nao informado     |Nao informado     |CA   |91406   |Domestic     |Western    |23/01/2019          |23/01/2018|398,38         |2018-01-25  |121031        |P01       |26502      |Bravo Large Canned Shrimp|1000       |939,57    |217830      |23/01/2019            |541,19      |939,57                          |273,05           |268,14             |541,19     |1             |119      |EA |2018|1  |25 |1        |03d450e10578350d5a8341dd3447f6e647f385d6defce51e2b65e08973287083|6ea406def5bbf1f7465a6fd71575bf663fd6a8e759662fe62d79c8d581974869|7b2d152400f7e5632e1a253132cfc4987c31e1a57418ad7e10638785a6733e63|\n",
      "|10000472    |1          |2       |10000472      |R3                  |1            |Aaron Store|G2           |Nao informado   |816-455-8733|S4                |C          |Van Nuys|US     |8000 Haskell Avenue|Nao informado     |Nao informado     |Nao informado     |CA   |91406   |Domestic     |Western    |23/01/2019          |23/01/2018|1346,6403      |2018-01-25  |121031        |P01       |28500      |Ebony Squash             |3000       |1058,6801 |217830      |23/01/2019            |1829,4      |3176,0403                       |928,93           |900,47             |609,8      |3             |119      |EA |2018|1  |25 |1        |03d450e10578350d5a8341dd3447f6e647f385d6defce51e2b65e08973287083|6ea406def5bbf1f7465a6fd71575bf663fd6a8e759662fe62d79c8d581974869|7b2d152400f7e5632e1a253132cfc4987c31e1a57418ad7e10638785a6733e63|\n",
      "+------------+-----------+--------+--------------+--------------------+-------------+-----------+-------------+----------------+------------+------------------+-----------+--------+-------+-------------------+------------------+------------------+------------------+-----+--------+-------------+-----------+--------------------+----------+---------------+------------+--------------+----------+-----------+-------------------------+-----------+----------+------------+----------------------+------------+--------------------------------+-----------------+-------------------+-----------+--------------+---------+---+----+---+---+---------+----------------------------------------------------------------+----------------------------------------------------------------+----------------------------------------------------------------+\n",
      "only showing top 5 rows\n",
      "\n"
     ]
    }
   ],
   "source": [
    "df_stage.show(5, truncate=False)"
   ]
  },
  {
   "cell_type": "code",
   "execution_count": 92,
   "metadata": {},
   "outputs": [],
   "source": [
    "df_stage.createOrReplaceTempView(\"stage\")"
   ]
  },
  {
   "cell_type": "code",
   "execution_count": 93,
   "metadata": {},
   "outputs": [],
   "source": [
    "#Gerar dimensões e fato a partir do tabelão  \n",
    "df_tempo = spark.sql(\"SELECT DISTINCT PK_TEMPO, invoice_date, Ano, Mes, Dia, Trimestre FROM stage\")"
   ]
  },
  {
   "cell_type": "code",
   "execution_count": 94,
   "metadata": {},
   "outputs": [
    {
     "name": "stdout",
     "output_type": "stream",
     "text": [
      "hdfs dfs -get /datalake/gold/dim_tempo/part-* input/projeto-hive/gold/dim_tempo.csv\n"
     ]
    }
   ],
   "source": [
    "#Exportar dataframes como tabelas csv\n",
    "salvar_df(df_tempo, 'dim_tempo')"
   ]
  },
  {
   "cell_type": "code",
   "execution_count": 95,
   "metadata": {},
   "outputs": [],
   "source": [
    "df_clientes = spark.sql(\"SELECT DISTINCT PK_CLIENTES, customer_key, customer, business_family_name, business_unit, customer_type, division, line_of_business, phone, region_code, regional_sales_mgr, search_type FROM stage\")"
   ]
  },
  {
   "cell_type": "code",
   "execution_count": 96,
   "metadata": {},
   "outputs": [
    {
     "name": "stdout",
     "output_type": "stream",
     "text": [
      "hdfs dfs -get /datalake/gold/dim_clientes/part-* input/projeto-hive/gold/dim_clientes.csv\n"
     ]
    }
   ],
   "source": [
    "salvar_df(df_clientes, 'dim_clientes')"
   ]
  },
  {
   "cell_type": "code",
   "execution_count": 97,
   "metadata": {},
   "outputs": [],
   "source": [
    "df_localidade = spark.sql(\"SELECT DISTINCT PK_LOCALIDADE, address_number, city, country, state, zip_code, division, division_name, region_code, region_name, customer_address_1, customer_address_2, customer_address_3, customer_address_4 FROM stage\")"
   ]
  },
  {
   "cell_type": "code",
   "execution_count": 98,
   "metadata": {},
   "outputs": [
    {
     "name": "stdout",
     "output_type": "stream",
     "text": [
      "hdfs dfs -get /datalake/gold/dim_localidade/part-* input/projeto-hive/gold/dim_localidade.csv\n"
     ]
    }
   ],
   "source": [
    "salvar_df(df_localidade, 'dim_localidade')"
   ]
  },
  {
   "cell_type": "code",
   "execution_count": 99,
   "metadata": {},
   "outputs": [],
   "source": [
    "ft_vendas = spark.sql(\"SELECT PK_CLIENTES, PK_TEMPO, PK_LOCALIDADE, actual_delivery_date, date_key, discount_amount, invoice_date, invoice_number, item_class, item_number, item, line_number, list_price, order_number, promised_delivery_date, sales_amount, sales_amount_based_on_list_price, sales_cost_amount, sales_margin_amount, sales_price, sales_quantity, sales_rep, u_m  FROM stage\")  "
   ]
  },
  {
   "cell_type": "code",
   "execution_count": 100,
   "metadata": {},
   "outputs": [
    {
     "name": "stdout",
     "output_type": "stream",
     "text": [
      "hdfs dfs -get /datalake/gold/ft_vendas/part-* input/projeto-hive/gold/ft_vendas.csv\n"
     ]
    }
   ],
   "source": [
    "salvar_df(ft_vendas, 'ft_vendas')"
   ]
  }
 ],
 "metadata": {
  "kernelspec": {
   "display_name": "base",
   "language": "python",
   "name": "python3"
  },
  "language_info": {
   "codemirror_mode": {
    "name": "ipython",
    "version": 3
   },
   "file_extension": ".py",
   "mimetype": "text/x-python",
   "name": "python",
   "nbconvert_exporter": "python",
   "pygments_lexer": "ipython3",
   "version": "3.9.13"
  }
 },
 "nbformat": 4,
 "nbformat_minor": 2
}
